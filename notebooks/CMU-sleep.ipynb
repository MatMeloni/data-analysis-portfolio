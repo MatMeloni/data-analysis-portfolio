{
 "cells": [
  {
   "cell_type": "markdown",
   "metadata": {
    "id": "60nsUvMfCikE"
   },
   "source": [
    "**A base de dados CMU Sleep (https://www.kaggle.com/datasets/mexwell/cmu-sleep/data) contém informações sobre o sono de indivíduos, incluindo dados de EEG, EOG e outros sinais fisiológicos.**\n"
   ]
  },
  {
   "cell_type": "markdown",
   "metadata": {
    "id": "VADnEcVQFNw5"
   },
   "source": [
    "**Questão 1: Exploração Inicial dos Dados (2 pontos)**\n",
    "\n",
    "**a) Descreva brevemente o conjunto de dados CMU Sleep, incluindo a origem e o que os dados representam.**\n",
    "\n",
    "Respostas - O arquivo disponivel representam os dados e especificações sobre sono de determinados individuos. Nestes dados podem ser visto valores como os dados:\n",
    "\n",
    "-eletroencefalografia (EEG)\n",
    "-eletrooculografia (EOG)\n",
    "-eletromiografia (EMG) e outros sinais fisiológicos.\n",
    "\n",
    "Além de informaçoes demograficas, idades, sexo do individuo e historico de sono de outros participantes\n"
   ]
  },
  {
   "cell_type": "markdown",
   "metadata": {
    "id": "Jboy3u27GKCy"
   },
   "source": [
    "**b) Realize uma análise exploratória inicial (EDA) e identifique pelo menos três características importantes dos dados (como variáveis, tipos de dados e estatísticas descritivas).**"
   ]
  },
  {
   "cell_type": "code",
   "execution_count": 12,
   "metadata": {
    "colab": {
     "base_uri": "https://localhost:8080/"
    },
    "executionInfo": {
     "elapsed": 4085,
     "status": "ok",
     "timestamp": 1743641331635,
     "user": {
      "displayName": "Matheus Meloni",
      "userId": "13087659412271888169"
     },
     "user_tz": 180
    },
    "id": "IKBj4G0lCnD6",
    "outputId": "69256e77-3a27-4203-f0d2-f5e0eca69d35"
   },
   "outputs": [
    {
     "name": "stdout",
     "output_type": "stream",
     "text": [
      "Drive already mounted at /content/drive; to attempt to forcibly remount, call drive.mount(\"/content/drive\", force_remount=True).\n",
      "   subject_id  study cohort demo_race demo_gender demo_firstgen  bedtime_mssd  \\\n",
      "0         185      5   lac1         1           1             0      0.116727   \n",
      "1         158      5   lac1         0           1             0      0.141681   \n",
      "2         209      5   lac1         1           1             0      1.529289   \n",
      "3         102      5   lac1         0           1             1      0.130148   \n",
      "4         174      5   lac1         1           1             0      0.130181   \n",
      "\n",
      "   TotalSleepTime  midpoint_sleep  frac_nights_with_data  daytime_sleep  \\\n",
      "0      432.200000      458.660000               0.862069      24.160000   \n",
      "1      391.931035      364.465517               1.000000      13.137931   \n",
      "2      344.304348      560.891304               0.793103      14.956522   \n",
      "3      392.620690      416.482759               1.000000      54.551724   \n",
      "4      423.421053      368.763158               0.655172      10.526316   \n",
      "\n",
      "   cum_gpa  term_gpa term_units Zterm_units_ZofZ  \n",
      "0     3.00      3.38         73      4.055294859  \n",
      "1     3.66      2.60         64      2.482534122  \n",
      "2     3.57      3.07         63       2.30778293  \n",
      "3     3.61      3.56         61      1.958280544  \n",
      "4     3.21      4.00         61      1.958280544  \n"
     ]
    }
   ],
   "source": [
    "from google.colab import drive\n",
    "drive.mount('/content/drive')\n",
    "\n",
    "import pandas as pd\n",
    "\n",
    "df = pd.read_csv('/content/drive/MyDrive/cmu-sleep.csv')\n",
    "\n",
    "# 1. Visualizar as primeiras linhas do DataFrame\n",
    "print(df.head())"
   ]
  },
  {
   "cell_type": "code",
   "execution_count": 13,
   "metadata": {
    "colab": {
     "base_uri": "https://localhost:8080/"
    },
    "executionInfo": {
     "elapsed": 9,
     "status": "ok",
     "timestamp": 1743641335195,
     "user": {
      "displayName": "Matheus Meloni",
      "userId": "13087659412271888169"
     },
     "user_tz": 180
    },
    "id": "UXQJSelCF9Qj",
    "outputId": "bb4ba883-80e4-42db-83f4-5d28092360b3"
   },
   "outputs": [
    {
     "name": "stdout",
     "output_type": "stream",
     "text": [
      "<class 'pandas.core.frame.DataFrame'>\n",
      "RangeIndex: 634 entries, 0 to 633\n",
      "Data columns (total 15 columns):\n",
      " #   Column                 Non-Null Count  Dtype  \n",
      "---  ------                 --------------  -----  \n",
      " 0   subject_id             634 non-null    int64  \n",
      " 1   study                  634 non-null    int64  \n",
      " 2   cohort                 634 non-null    object \n",
      " 3   demo_race              634 non-null    object \n",
      " 4   demo_gender            634 non-null    object \n",
      " 5   demo_firstgen          634 non-null    object \n",
      " 6   bedtime_mssd           634 non-null    float64\n",
      " 7   TotalSleepTime         634 non-null    float64\n",
      " 8   midpoint_sleep         634 non-null    float64\n",
      " 9   frac_nights_with_data  634 non-null    float64\n",
      " 10  daytime_sleep          634 non-null    float64\n",
      " 11  cum_gpa                634 non-null    float64\n",
      " 12  term_gpa               634 non-null    float64\n",
      " 13  term_units             634 non-null    object \n",
      " 14  Zterm_units_ZofZ       634 non-null    object \n",
      "dtypes: float64(7), int64(2), object(6)\n",
      "memory usage: 74.4+ KB\n",
      "None\n"
     ]
    }
   ],
   "source": [
    "# 2. Obter informações sobre as colunas e tipos de dados\n",
    "print(df.info())"
   ]
  },
  {
   "cell_type": "code",
   "execution_count": 14,
   "metadata": {
    "colab": {
     "base_uri": "https://localhost:8080/"
    },
    "executionInfo": {
     "elapsed": 4,
     "status": "ok",
     "timestamp": 1743641340443,
     "user": {
      "displayName": "Matheus Meloni",
      "userId": "13087659412271888169"
     },
     "user_tz": 180
    },
    "id": "_QFIiqQhFbJk",
    "outputId": "0a14a2a2-5fa6-422b-8e9e-90d06dfe06e2"
   },
   "outputs": [
    {
     "name": "stdout",
     "output_type": "stream",
     "text": [
      "         subject_id       study  bedtime_mssd  TotalSleepTime  midpoint_sleep  \\\n",
      "count    634.000000  634.000000    634.000000      634.000000      634.000000   \n",
      "mean   13005.892744    3.181388      0.451688      397.323874      398.679186   \n",
      "std    26496.593477    1.317125      1.393632       50.856725       72.710945   \n",
      "min        1.000000    1.000000      0.004505      194.782609      247.071429   \n",
      "25%      178.000000    2.000000      0.074694      366.930077      345.182692   \n",
      "50%      358.500000    3.000000      0.135007      400.395833      388.245726   \n",
      "75%      592.750000    4.000000      0.291698      430.114583      437.655263   \n",
      "max    99978.000000    5.000000     20.849225      587.666667      724.666667   \n",
      "\n",
      "       frac_nights_with_data  daytime_sleep     cum_gpa    term_gpa  \n",
      "count             634.000000     634.000000  634.000000  634.000000  \n",
      "mean                0.867439      41.164241    3.465596    3.449598  \n",
      "std                 0.178960      27.389418    0.437577    0.500467  \n",
      "min                 0.214286       2.269231    1.210000    0.350000  \n",
      "25%                 0.821429      23.097826    3.232283    3.233333  \n",
      "50%                 0.932184      34.982143    3.557833    3.555667  \n",
      "75%                 1.000000      51.248538    3.789545    3.810000  \n",
      "max                 1.000000     292.304348    4.000000    4.000000  \n"
     ]
    }
   ],
   "source": [
    "# 3. Calcular estatísticas descritivas básicas\n",
    "print(df.describe())"
   ]
  },
  {
   "cell_type": "markdown",
   "metadata": {
    "id": "cPBANMfLGQcT"
   },
   "source": [
    "**Questão 2: Limpeza de Dados (3 pontos)**\n",
    "\n",
    "**Identifique e discuta possíveis problemas de qualidade dos dados que podem estar presentes na base CMU Sleep.**\n",
    "\n",
    "**a) Quais etapas você tomaria para lidar com valores ausentes ou inconsistências nos dados?**\n"
   ]
  },
  {
   "cell_type": "code",
   "execution_count": 15,
   "metadata": {
    "colab": {
     "base_uri": "https://localhost:8080/",
     "height": 554
    },
    "executionInfo": {
     "elapsed": 4,
     "status": "ok",
     "timestamp": 1743641350510,
     "user": {
      "displayName": "Matheus Meloni",
      "userId": "13087659412271888169"
     },
     "user_tz": 180
    },
    "id": "6A7fsqmrGfat",
    "outputId": "f0d3eab6-6e83-48b7-b360-e6a089a57528"
   },
   "outputs": [
    {
     "data": {
      "text/html": [
       "<div>\n",
       "<style scoped>\n",
       "    .dataframe tbody tr th:only-of-type {\n",
       "        vertical-align: middle;\n",
       "    }\n",
       "\n",
       "    .dataframe tbody tr th {\n",
       "        vertical-align: top;\n",
       "    }\n",
       "\n",
       "    .dataframe thead th {\n",
       "        text-align: right;\n",
       "    }\n",
       "</style>\n",
       "<table border=\"1\" class=\"dataframe\">\n",
       "  <thead>\n",
       "    <tr style=\"text-align: right;\">\n",
       "      <th></th>\n",
       "      <th>0</th>\n",
       "    </tr>\n",
       "  </thead>\n",
       "  <tbody>\n",
       "    <tr>\n",
       "      <th>subject_id</th>\n",
       "      <td>0</td>\n",
       "    </tr>\n",
       "    <tr>\n",
       "      <th>study</th>\n",
       "      <td>0</td>\n",
       "    </tr>\n",
       "    <tr>\n",
       "      <th>cohort</th>\n",
       "      <td>0</td>\n",
       "    </tr>\n",
       "    <tr>\n",
       "      <th>demo_race</th>\n",
       "      <td>0</td>\n",
       "    </tr>\n",
       "    <tr>\n",
       "      <th>demo_gender</th>\n",
       "      <td>0</td>\n",
       "    </tr>\n",
       "    <tr>\n",
       "      <th>demo_firstgen</th>\n",
       "      <td>0</td>\n",
       "    </tr>\n",
       "    <tr>\n",
       "      <th>bedtime_mssd</th>\n",
       "      <td>0</td>\n",
       "    </tr>\n",
       "    <tr>\n",
       "      <th>TotalSleepTime</th>\n",
       "      <td>0</td>\n",
       "    </tr>\n",
       "    <tr>\n",
       "      <th>midpoint_sleep</th>\n",
       "      <td>0</td>\n",
       "    </tr>\n",
       "    <tr>\n",
       "      <th>frac_nights_with_data</th>\n",
       "      <td>0</td>\n",
       "    </tr>\n",
       "    <tr>\n",
       "      <th>daytime_sleep</th>\n",
       "      <td>0</td>\n",
       "    </tr>\n",
       "    <tr>\n",
       "      <th>cum_gpa</th>\n",
       "      <td>0</td>\n",
       "    </tr>\n",
       "    <tr>\n",
       "      <th>term_gpa</th>\n",
       "      <td>0</td>\n",
       "    </tr>\n",
       "    <tr>\n",
       "      <th>term_units</th>\n",
       "      <td>0</td>\n",
       "    </tr>\n",
       "    <tr>\n",
       "      <th>Zterm_units_ZofZ</th>\n",
       "      <td>0</td>\n",
       "    </tr>\n",
       "  </tbody>\n",
       "</table>\n",
       "</div><br><label><b>dtype:</b> int64</label>"
      ],
      "text/plain": [
       "subject_id               0\n",
       "study                    0\n",
       "cohort                   0\n",
       "demo_race                0\n",
       "demo_gender              0\n",
       "demo_firstgen            0\n",
       "bedtime_mssd             0\n",
       "TotalSleepTime           0\n",
       "midpoint_sleep           0\n",
       "frac_nights_with_data    0\n",
       "daytime_sleep            0\n",
       "cum_gpa                  0\n",
       "term_gpa                 0\n",
       "term_units               0\n",
       "Zterm_units_ZofZ         0\n",
       "dtype: int64"
      ]
     },
     "execution_count": 15,
     "metadata": {},
     "output_type": "execute_result"
    }
   ],
   "source": [
    "df.isnull().sum()\n",
    "#identificar a quantidade de valores ausentes em cada coluna."
   ]
  },
  {
   "cell_type": "markdown",
   "metadata": {
    "id": "_vpHUX_dILYe"
   },
   "source": [
    "**Teste de inconsistencias**"
   ]
  },
  {
   "cell_type": "code",
   "execution_count": 21,
   "metadata": {
    "colab": {
     "base_uri": "https://localhost:8080/"
    },
    "executionInfo": {
     "elapsed": 5,
     "status": "ok",
     "timestamp": 1743641542693,
     "user": {
      "displayName": "Matheus Meloni",
      "userId": "13087659412271888169"
     },
     "user_tz": 180
    },
    "id": "wNdhL_SlInTo",
    "outputId": "c853a354-7647-4d08-fb71-728fe26e5074"
   },
   "outputs": [
    {
     "name": "stdout",
     "output_type": "stream",
     "text": [
      "Index(['subject_id', 'study', 'cohort', 'demo_race', 'demo_gender',\n",
      "       'demo_firstgen', 'bedtime_mssd', 'TotalSleepTime', 'midpoint_sleep',\n",
      "       'frac_nights_with_data', 'daytime_sleep', 'cum_gpa', 'term_gpa',\n",
      "       'term_units', 'Zterm_units_ZofZ'],\n",
      "      dtype='object')\n"
     ]
    }
   ],
   "source": [
    "print(df.columns)\n",
    "# Verificando quais são as colunas para criar variaveis de verificação da inconsistencias"
   ]
  },
  {
   "cell_type": "code",
   "execution_count": 23,
   "metadata": {
    "colab": {
     "base_uri": "https://localhost:8080/"
    },
    "executionInfo": {
     "elapsed": 6,
     "status": "ok",
     "timestamp": 1743641840019,
     "user": {
      "displayName": "Matheus Meloni",
      "userId": "13087659412271888169"
     },
     "user_tz": 180
    },
    "id": "2tgNvzahJF2s",
    "outputId": "e28bedf0-7314-414a-a305-2c57f123fcae"
   },
   "outputs": [
    {
     "name": "stdout",
     "output_type": "stream",
     "text": [
      "Empty DataFrame\n",
      "Columns: [subject_id, study, cohort, demo_race, demo_gender, demo_firstgen, bedtime_mssd, TotalSleepTime, midpoint_sleep, frac_nights_with_data, daytime_sleep, cum_gpa, term_gpa, term_units, Zterm_units_ZofZ]\n",
      "Index: []\n"
     ]
    }
   ],
   "source": [
    "# 1. Verificar Total Sleep Time (TST):\n",
    "print(df[(df['TotalSleepTime'] < 0) | (df['TotalSleepTime'] > 12*60)])  # Convertendo para minutos"
   ]
  },
  {
   "cell_type": "code",
   "execution_count": 24,
   "metadata": {
    "colab": {
     "base_uri": "https://localhost:8080/"
    },
    "executionInfo": {
     "elapsed": 4,
     "status": "ok",
     "timestamp": 1743641854656,
     "user": {
      "displayName": "Matheus Meloni",
      "userId": "13087659412271888169"
     },
     "user_tz": 180
    },
    "id": "Ux35oX6GJzn5",
    "outputId": "168bae1a-6776-45ae-98f3-f6c214186ac1"
   },
   "outputs": [
    {
     "name": "stdout",
     "output_type": "stream",
     "text": [
      "Empty DataFrame\n",
      "Columns: [subject_id, study, cohort, demo_race, demo_gender, demo_firstgen, bedtime_mssd, TotalSleepTime, midpoint_sleep, frac_nights_with_data, daytime_sleep, cum_gpa, term_gpa, term_units, Zterm_units_ZofZ]\n",
      "Index: []\n"
     ]
    }
   ],
   "source": [
    "# 2. Verificar bedtime_mssd:\n",
    "print(df[(df['bedtime_mssd'] < 0)])"
   ]
  },
  {
   "cell_type": "code",
   "execution_count": 25,
   "metadata": {
    "colab": {
     "base_uri": "https://localhost:8080/"
    },
    "executionInfo": {
     "elapsed": 4,
     "status": "ok",
     "timestamp": 1743641863720,
     "user": {
      "displayName": "Matheus Meloni",
      "userId": "13087659412271888169"
     },
     "user_tz": 180
    },
    "id": "9xk3CnN1J1xi",
    "outputId": "a49c1c52-bca4-48a1-f826-d26ef1569ee3"
   },
   "outputs": [
    {
     "name": "stdout",
     "output_type": "stream",
     "text": [
      "Empty DataFrame\n",
      "Columns: [subject_id, study, cohort, demo_race, demo_gender, demo_firstgen, bedtime_mssd, TotalSleepTime, midpoint_sleep, frac_nights_with_data, daytime_sleep, cum_gpa, term_gpa, term_units, Zterm_units_ZofZ]\n",
      "Index: []\n"
     ]
    }
   ],
   "source": [
    "# 3. Verificar frac_nights_with_data:\n",
    "print(df[(df['frac_nights_with_data'] < 0) | (df['frac_nights_with_data'] > 1)])\n"
   ]
  },
  {
   "cell_type": "code",
   "execution_count": 26,
   "metadata": {
    "colab": {
     "base_uri": "https://localhost:8080/"
    },
    "executionInfo": {
     "elapsed": 4,
     "status": "ok",
     "timestamp": 1743641870754,
     "user": {
      "displayName": "Matheus Meloni",
      "userId": "13087659412271888169"
     },
     "user_tz": 180
    },
    "id": "ul57YgsnJ3nw",
    "outputId": "bfa413e6-98c7-4fac-9681-f9fe20aa84cc"
   },
   "outputs": [
    {
     "name": "stdout",
     "output_type": "stream",
     "text": [
      "Empty DataFrame\n",
      "Columns: [subject_id, study, cohort, demo_race, demo_gender, demo_firstgen, bedtime_mssd, TotalSleepTime, midpoint_sleep, frac_nights_with_data, daytime_sleep, cum_gpa, term_gpa, term_units, Zterm_units_ZofZ]\n",
      "Index: []\n"
     ]
    }
   ],
   "source": [
    "# 4. Verificar daytime_sleep:\n",
    "print(df[(df['daytime_sleep'] < 0)])"
   ]
  },
  {
   "cell_type": "code",
   "execution_count": 27,
   "metadata": {
    "colab": {
     "base_uri": "https://localhost:8080/"
    },
    "executionInfo": {
     "elapsed": 5,
     "status": "ok",
     "timestamp": 1743641878723,
     "user": {
      "displayName": "Matheus Meloni",
      "userId": "13087659412271888169"
     },
     "user_tz": 180
    },
    "id": "eX32UOh0J5dd",
    "outputId": "6786425c-b6e9-448e-b377-a43860ed1f00"
   },
   "outputs": [
    {
     "name": "stdout",
     "output_type": "stream",
     "text": [
      "Empty DataFrame\n",
      "Columns: [subject_id, study, cohort, demo_race, demo_gender, demo_firstgen, bedtime_mssd, TotalSleepTime, midpoint_sleep, frac_nights_with_data, daytime_sleep, cum_gpa, term_gpa, term_units, Zterm_units_ZofZ]\n",
      "Index: []\n",
      "Empty DataFrame\n",
      "Columns: [subject_id, study, cohort, demo_race, demo_gender, demo_firstgen, bedtime_mssd, TotalSleepTime, midpoint_sleep, frac_nights_with_data, daytime_sleep, cum_gpa, term_gpa, term_units, Zterm_units_ZofZ]\n",
      "Index: []\n"
     ]
    }
   ],
   "source": [
    "# 5. Verificar GPA:\n",
    "print(df[(df['cum_gpa'] < 0) | (df['cum_gpa'] > 4.0)])\n",
    "print(df[(df['term_gpa'] < 0) | (df['term_gpa'] > 4.0)])"
   ]
  },
  {
   "cell_type": "code",
   "execution_count": 31,
   "metadata": {
    "colab": {
     "base_uri": "https://localhost:8080/"
    },
    "executionInfo": {
     "elapsed": 5,
     "status": "ok",
     "timestamp": 1743641916758,
     "user": {
      "displayName": "Matheus Meloni",
      "userId": "13087659412271888169"
     },
     "user_tz": 180
    },
    "id": "t_JlPQcHKCYk",
    "outputId": "928d44d3-568e-44f3-eb09-3d4916ab18fa"
   },
   "outputs": [
    {
     "name": "stdout",
     "output_type": "stream",
     "text": [
      "demo_gender\n",
      "1    368\n",
      "0    263\n",
      "       3\n",
      "Name: count, dtype: int64\n",
      "demo_race\n",
      "1    514\n",
      "0    119\n",
      "       1\n",
      "Name: count, dtype: int64\n",
      "demo_firstgen\n",
      "0    526\n",
      "1    103\n",
      "       4\n",
      "2      1\n",
      "Name: count, dtype: int64\n"
     ]
    }
   ],
   "source": [
    "# 6. Verificar variáveis categóricas:\n",
    "print(df['demo_gender'].value_counts())\n",
    "print(df['demo_race'].value_counts())\n",
    "print(df['demo_firstgen'].value_counts())\n"
   ]
  },
  {
   "cell_type": "code",
   "execution_count": 32,
   "metadata": {
    "colab": {
     "base_uri": "https://localhost:8080/"
    },
    "executionInfo": {
     "elapsed": 11,
     "status": "ok",
     "timestamp": 1743641923951,
     "user": {
      "displayName": "Matheus Meloni",
      "userId": "13087659412271888169"
     },
     "user_tz": 180
    },
    "id": "GMorSG84KD-Q",
    "outputId": "bea0f0a2-6142-44d0-f161-203724255382"
   },
   "outputs": [
    {
     "name": "stdout",
     "output_type": "stream",
     "text": [
      "Empty DataFrame\n",
      "Columns: [subject_id, study, cohort, demo_race, demo_gender, demo_firstgen, bedtime_mssd, TotalSleepTime, midpoint_sleep, frac_nights_with_data, daytime_sleep, cum_gpa, term_gpa, term_units, Zterm_units_ZofZ]\n",
      "Index: []\n"
     ]
    }
   ],
   "source": [
    "# 7. Verificar dados duplicados:\n",
    "print(df[df.duplicated()])"
   ]
  },
  {
   "cell_type": "markdown",
   "metadata": {
    "id": "A3x_J-g2KjvD"
   },
   "source": [
    "**b) Explique como você documentaria essas etapas.**"
   ]
  },
  {
   "cell_type": "code",
   "execution_count": null,
   "metadata": {
    "id": "8uYl5WSAKmpj"
   },
   "outputs": [],
   "source": [
    "#Documentação inicial feita por comentarios na execução de cada parte do codigo"
   ]
  },
  {
   "cell_type": "markdown",
   "metadata": {
    "id": "yg930Th-LMXP"
   },
   "source": [
    "**Questão 3: Análise Estatística (3 pontos)**\n",
    "\n",
    "**Escolha uma variável de interesse (por exemplo, duração do sono, quantidade de despertares, etc.) e realize as seguintes análises:**\n",
    "\n",
    "\n",
    "\n",
    "**a) Calcule estatísticas descritivas (média, mediana, desvio padrão).**\n"
   ]
  },
  {
   "cell_type": "code",
   "execution_count": 43,
   "metadata": {
    "colab": {
     "base_uri": "https://localhost:8080/"
    },
    "executionInfo": {
     "elapsed": 6,
     "status": "ok",
     "timestamp": 1743642683397,
     "user": {
      "displayName": "Matheus Meloni",
      "userId": "13087659412271888169"
     },
     "user_tz": 180
    },
    "id": "VgxgvH78LWIe",
    "outputId": "9ed415ca-3a05-45b9-a2ac-31e6a055ca57"
   },
   "outputs": [
    {
     "name": "stdout",
     "output_type": "stream",
     "text": [
      "count    634.000000\n",
      "mean     397.323874\n",
      "std       50.856725\n",
      "min      194.782609\n",
      "25%      366.930077\n",
      "50%      400.395833\n",
      "75%      430.114583\n",
      "max      587.666667\n",
      "Name: TotalSleepTime, dtype: float64\n"
     ]
    }
   ],
   "source": [
    "import matplotlib.pyplot as plt\n",
    "\n",
    "# Calcular estatísticas descritivas para 'TotalSleepTime'\n",
    "total_sleep_time_stats = df['TotalSleepTime'].describe()\n",
    "\n",
    "# Exibir as estatísticas\n",
    "print(total_sleep_time_stats)\n"
   ]
  },
  {
   "cell_type": "markdown",
   "metadata": {
    "id": "rX8DDf6GM_oV"
   },
   "source": [
    "**b) Crie pelo menos um gráfico (histograma, boxplot) para visualizar a distribuição da variável escolhida.**"
   ]
  },
  {
   "cell_type": "code",
   "execution_count": 42,
   "metadata": {
    "colab": {
     "base_uri": "https://localhost:8080/",
     "height": 472
    },
    "executionInfo": {
     "elapsed": 350,
     "status": "ok",
     "timestamp": 1743642676070,
     "user": {
      "displayName": "Matheus Meloni",
      "userId": "13087659412271888169"
     },
     "user_tz": 180
    },
    "id": "sdYHfyNkM8HZ",
    "outputId": "c6e9cb45-e3c3-43e8-b1d3-e0cd370ea633"
   },
   "outputs": [
    {
     "data": {
      "image/png": "[encoded data removed]",
      "text/plain": [
       "<Figure size 640x480 with 1 Axes>"
      ]
     },
     "metadata": {},
     "output_type": "display_data"
    }
   ],
   "source": [
    "# Criar um histograma para 'TotalSleepTime'\n",
    "plt.hist(df['TotalSleepTime']/60, bins=20)\n",
    "plt.xlabel('Total Sleep Time (Horas)')\n",
    "plt.ylabel('Frequência')\n",
    "plt.title('Distribuição da Duração do Sono')\n",
    "plt.show()"
   ]
  },
  {
   "cell_type": "markdown",
   "metadata": {
    "id": "UW10tSglMLA1"
   },
   "source": [
    "Optei por analisar a variável 'TotalSleepTime', que representa a duração total do sono em minutos, por considerá-la um indicador fundamental da qualidade do sono, desta forma, a escolha dessa variável se justifica por sua relevância para o tema do conjunto de dados CMU Sleep e por ser uma medida objetiva e facilmente quantificável. Para realizar a análise exploratória inicial, utilizei o método describe() da biblioteca pandas em Python, que me permitiu calcular estatísticas descritivas como média, mediana, desvio padrão, mínimo, máximo e quartis da variável 'TotalSleepTime'.\n",
    "\n",
    "Fornecendo uma visão geral da distribuição da duração do sono na amostra e me permitindo identificar potenciais outliers e padrões interessantes para investigação posterior."
   ]
  },
  {
   "cell_type": "markdown",
   "metadata": {
    "id": "u6XN9la_NGkD"
   },
   "source": [
    "**c) Interprete os resultados e discuta o que eles indicam sobre os padrões de sono dos indivíduos.**"
   ]
  },
  {
   "cell_type": "markdown",
   "metadata": {
    "id": "3ZFfTh0CNjWd"
   },
   "source": [
    "Foram observados um total de 632 participantes, Com uma duração média de 397 que equivale a 6,62 horas de sono em média. Havendo um desvio padrão de 51 minutos entre os sonos, sendo o menor deles 194,78 minutos (aproximadamente 3,25 horas) e o sono mais longo sendo de 587,67 minutos (aproximadamente 9,79 Horas).\n",
    "\n",
    "Com estas informações podemos então chegar na conclusão que a duração média do sono de aproximadamente 6.62 horas está um pouco abaixo da faixa considerada ideal para adultos, que é de 7 a 9 horas. Isso pode indicar que os participantes da pesquisa para CMU, em média, dormem menos do que o recomendado. Além de que, o valor mínimo de 3.25 horas e o valor máximo de 9.79 horas indicam que há alguns indivíduos com durações de sono extremas, que podem ser outliers."
   ]
  },
  {
   "cell_type": "markdown",
   "metadata": {
    "id": "UoRH3l83OZIj"
   },
   "source": [
    "\n",
    "**d) Um estudante da CMU tem 300 horas de sono total. Qual é o seu GPA previsto?**"
   ]
  },
  {
   "cell_type": "code",
   "execution_count": 47,
   "metadata": {
    "colab": {
     "base_uri": "https://localhost:8080/"
    },
    "executionInfo": {
     "elapsed": 8,
     "status": "ok",
     "timestamp": 1743643114293,
     "user": {
      "displayName": "Matheus Meloni",
      "userId": "13087659412271888169"
     },
     "user_tz": 180
    },
    "id": "P21qJJ6VN78x",
    "outputId": "4aae74ba-b113-44c6-92e2-4dbc0b1390ff"
   },
   "outputs": [
    {
     "name": "stdout",
     "output_type": "stream",
     "text": [
      "18000\n"
     ]
    }
   ],
   "source": [
    "#convertendo horas para minutos 300 horas * 60 minutos/hora = 18000 minutos\n",
    "total_sleep_time_minutes = 300 * 60\n",
    "print(total_sleep_time_minutes)"
   ]
  },
  {
   "cell_type": "code",
   "execution_count": 70,
   "metadata": {
    "colab": {
     "base_uri": "https://localhost:8080/",
     "height": 472
    },
    "executionInfo": {
     "elapsed": 900,
     "status": "ok",
     "timestamp": 1743644916101,
     "user": {
      "displayName": "Matheus Meloni",
      "userId": "13087659412271888169"
     },
     "user_tz": 180
    },
    "id": "DaLCiDaPOeEm",
    "outputId": "4619bcef-3296-409e-c957-0a3e0adff1e7"
   },
   "outputs": [
    {
     "data": {
      "image/png": "[encoded data removed]",
      "text/plain": [
       "<Figure size 640x480 with 1 Axes>"
      ]
     },
     "metadata": {},
     "output_type": "display_data"
    }
   ],
   "source": [
    "import pandas as pd\n",
    "import matplotlib.pyplot as plt\n",
    "from sklearn.linear_model import LinearRegression\n",
    "\n",
    "# Supondo que o DataFrame já foi carregado como 'df'\n",
    "\n",
    "# Criar um modelo de regressão linear\n",
    "model = LinearRegression()\n",
    "\n",
    "# Ajustar o modelo aos dados (TotalSleepTime como preditor e GPA como variável resposta)\n",
    "X = df[['TotalSleepTime']] /60 #dividindo por 60 para ter o total em horas\n",
    "y = df['cum_gpa']\n",
    "model.fit(X, y)\n",
    "\n",
    "\n",
    "# Gerar o gráfico de dispersão\n",
    "plt.scatter(df['TotalSleepTime']/60, df['cum_gpa'])  # Pontos dos dados\n",
    "plt.plot(X, model.predict(X), color='red')  # Linha de regressão\n",
    "plt.xlabel('Total Sleep Time (horas)')\n",
    "plt.ylabel('GPA')\n",
    "plt.title('Relação entre Duração do Sono e GPA')\n",
    "plt.show()"
   ]
  },
  {
   "cell_type": "markdown",
   "metadata": {
    "id": "_QEVkr-sP2VU"
   },
   "source": [
    "\n",
    "**Questão 4: Comparação de Grupos (2 pontos)**\n",
    "\n",
    "\n",
    "\n",
    "**Utilize a base de dados para comparar a qualidade do sono entre dois grupos (por exemplo, com base em idade, gênero ou condição de saúde).**\n",
    "\n",
    "\n",
    "\n",
    "**a) Descreva a metodologia que você usaria para realizar essa comparação.**"
   ]
  },
  {
   "cell_type": "code",
   "execution_count": 62,
   "metadata": {
    "colab": {
     "base_uri": "https://localhost:8080/"
    },
    "executionInfo": {
     "elapsed": 9,
     "status": "ok",
     "timestamp": 1743644118672,
     "user": {
      "displayName": "Matheus Meloni",
      "userId": "13087659412271888169"
     },
     "user_tz": 180
    },
    "id": "XR6Mi1WpSbda",
    "outputId": "31c9b344-5d8d-4903-9152-d81052ea68b7"
   },
   "outputs": [
    {
     "name": "stdout",
     "output_type": "stream",
     "text": [
      "Média da duração do sono: 397.32 minutos\n"
     ]
    }
   ],
   "source": [
    "media_sono = df['TotalSleepTime'].mean()\n",
    "print(f\"Média da duração do sono: {media_sono:.2f} minutos\")"
   ]
  },
  {
   "cell_type": "code",
   "execution_count": 64,
   "metadata": {
    "executionInfo": {
     "elapsed": 4,
     "status": "ok",
     "timestamp": 1743644129309,
     "user": {
      "displayName": "Matheus Meloni",
      "userId": "13087659412271888169"
     },
     "user_tz": 180
    },
    "id": "I7VeN8Z_SeLx"
   },
   "outputs": [],
   "source": [
    "# Criar DataFrames para os grupos que dormem mais e menos que a média\n",
    "dormem_mais = df[df['TotalSleepTime'] > media_sono]\n",
    "dormem_menos = df[df['TotalSleepTime'] <= media_sono]"
   ]
  },
  {
   "cell_type": "code",
   "execution_count": 65,
   "metadata": {
    "colab": {
     "base_uri": "https://localhost:8080/"
    },
    "executionInfo": {
     "elapsed": 16,
     "status": "ok",
     "timestamp": 1743644135254,
     "user": {
      "displayName": "Matheus Meloni",
      "userId": "13087659412271888169"
     },
     "user_tz": 180
    },
    "id": "zokfFshvSgYF",
    "outputId": "9dc947aa-0f39-4699-f9b1-3c2417a3e5de"
   },
   "outputs": [
    {
     "name": "stdout",
     "output_type": "stream",
     "text": [
      "\n",
      "Estatísticas descritivas do GPA para quem dorme mais que a média:\n",
      "count    341.000000\n",
      "mean       3.498906\n",
      "std        0.426663\n",
      "min        1.210000\n",
      "25%        3.259655\n",
      "50%        3.600000\n",
      "75%        3.800000\n",
      "max        4.000000\n",
      "Name: cum_gpa, dtype: float64\n",
      "\n",
      "Estatísticas descritivas do GPA para quem dorme menos que a média:\n",
      "count    293.000000\n",
      "mean       3.426829\n",
      "std        0.447559\n",
      "min        1.570000\n",
      "25%        3.210000\n",
      "50%        3.500000\n",
      "75%        3.773077\n",
      "max        4.000000\n",
      "Name: cum_gpa, dtype: float64\n"
     ]
    }
   ],
   "source": [
    "# Calcular estatísticas descritivas do GPA para cada grupo\n",
    "print(\"\\nEstatísticas descritivas do GPA para quem dorme mais que a média:\")\n",
    "print(dormem_mais['cum_gpa'].describe())\n",
    "\n",
    "print(\"\\nEstatísticas descritivas do GPA para quem dorme menos que a média:\")\n",
    "print(dormem_menos['cum_gpa'].describe())"
   ]
  },
  {
   "cell_type": "code",
   "execution_count": 68,
   "metadata": {
    "colab": {
     "base_uri": "https://localhost:8080/",
     "height": 508
    },
    "executionInfo": {
     "elapsed": 186,
     "status": "ok",
     "timestamp": 1743644817511,
     "user": {
      "displayName": "Matheus Meloni",
      "userId": "13087659412271888169"
     },
     "user_tz": 180
    },
    "id": "TO20w40_SiC5",
    "outputId": "4c7f5598-c438-4651-d1ea-ffbb5c4aa431"
   },
   "outputs": [
    {
     "name": "stderr",
     "output_type": "stream",
     "text": [
      "<ipython-input-68-40ed4ca7ff78>:4: MatplotlibDeprecationWarning: The 'labels' parameter of boxplot() has been renamed 'tick_labels' since Matplotlib 3.9; support for the old name will be dropped in 3.11.\n",
      "  plt.boxplot([dormem_mais['cum_gpa'], dormem_menos['cum_gpa']], labels=['Dormem mais que a média', 'Dormem menos que a média'])\n"
     ]
    },
    {
     "data": {
      "image/png": "[encoded data removed]",
      "text/plain": [
       "<Figure size 640x480 with 1 Axes>"
      ]
     },
     "metadata": {},
     "output_type": "display_data"
    }
   ],
   "source": [
    "import matplotlib.pyplot as plt\n",
    "\n",
    "# Criar boxplots do GPA para cada grupo\n",
    "plt.boxplot([dormem_mais['cum_gpa'], dormem_menos['cum_gpa']], labels=['Dormem mais que a média', 'Dormem menos que a média'])\n",
    "plt.ylabel('GPA')\n",
    "plt.title('Comparação do GPA entre Grupos de Duração do Sono')\n",
    "plt.show()"
   ]
  },
  {
   "cell_type": "code",
   "execution_count": 67,
   "metadata": {
    "colab": {
     "base_uri": "https://localhost:8080/"
    },
    "executionInfo": {
     "elapsed": 13,
     "status": "ok",
     "timestamp": 1743644151975,
     "user": {
      "displayName": "Matheus Meloni",
      "userId": "13087659412271888169"
     },
     "user_tz": 180
    },
    "id": "Sk3nnenOSkkb",
    "outputId": "480719a8-a85a-4e86-ff9a-6cd7a73371ea"
   },
   "outputs": [
    {
     "name": "stdout",
     "output_type": "stream",
     "text": [
      "\n",
      "Teste t de Student: t-statistic = 2.07, p-value = 0.039\n"
     ]
    }
   ],
   "source": [
    "from scipy import stats\n",
    "\n",
    "# Realizar um teste t de Student para comparar as médias do GPA\n",
    "t_statistic, p_value = stats.ttest_ind(dormem_mais['cum_gpa'], dormem_menos['cum_gpa'])\n",
    "print(f\"\\nTeste t de Student: t-statistic = {t_statistic:.2f}, p-value = {p_value:.3f}\")"
   ]
  },
  {
   "cell_type": "markdown",
   "metadata": {
    "id": "m-1rTdeES0tc"
   },
   "source": [
    "Com base nos resultados do teste t de Student, podemos concluir que há evidências de que dormir mais que a média está associado a um GPA mais alto no conjunto de dados CMU Sleep. A estatística t de 2.07 indica que a diferença entre as médias do GPA dos dois grupos é significativa, e o valor-p de 0.039 indica que essa diferença é improvável de ter ocorrido por acaso."
   ]
  },
  {
   "cell_type": "markdown",
   "metadata": {
    "id": "U1IQqOJqRqlP"
   },
   "source": [
    "\n",
    "**b) Quais insights você obteve sobre o sono dos indivíduos na base de dados?**"
   ]
  },
  {
   "cell_type": "markdown",
   "metadata": {
    "id": "rcA9v9kLTQie"
   },
   "source": [
    "**Duração média do sono abaixo do ideal**\n",
    "\n",
    "Os estudantes da CMU dormem, em média, menos que a faixa recomendada de 7 a 9 horas para adultos, o que pode impactar negativamente seu bem-estar e desempenho acadêmico.\n",
    "\n",
    "**Associação positiva entre duração do sono e GPA**\n",
    "\n",
    "Há evidências de que dormir mais que a média está associado a um GPA mais alto, sugerindo uma possível influência da duração do sono no desempenho acadêmico.\n",
    "\n",
    "**Variabilidade individual e potenciais problemas de saúde**\n",
    "\n",
    " A considerável variabilidade na duração do sono entre os indivíduos, incluindo casos de durações extremas, aponta para a necessidade de investigar fatores individuais e potenciais problemas de saúde relacionados ao sono."
   ]
  },
  {
   "cell_type": "markdown",
   "metadata": {
    "id": "DZv8kAl5SWtR"
   },
   "source": [
    "**c) Como esses insights podem ser aplicados em contextos práticos, como intervenções de saúde ou desenvolvimento de tecnologias de monitoramento do sono?**"
   ]
  },
  {
   "cell_type": "markdown",
   "metadata": {
    "id": "B1x8Ok44USHu"
   },
   "source": [
    "Claro que sim, a partir de um momento que são gerados dados que podem ser conectados com um efeito de causa, podemos aplicar isso ao nosso dia dia. Com esse estudo feito e a possivel nota desta prova conseguirei entender se eu ter dormido mais essa noite fez efeito em relação a minha prova anterior (Fundamentos de sistemas operacionais) da qual fui mal.\n",
    "\n",
    "Podemos realizar diversos estudos com varios alunos reais e buscar novas variaveis alem do tempo de sono, como quantidade de estudo fora do ambiente estudantil, quantidade de livros ou resumos lidos, exercicios feitos, atividades fisicas na semana entre outras variaveis que podem ser utilizadas para aprofundamento do contexto e possivel aplicação de pesquisa."
   ]
  }
 ],
 "metadata": {
  "colab": {
   "authorship_tag": "ABX9TyOvw3rZNIqIDPtmzSdrtLJf",
   "provenance": []
  },
  "kernelspec": {
   "display_name": "Python 3",
   "name": "python3"
  },
  "language_info": {
   "codemirror_mode": {
    "name": "ipython",
    "version": 3
   },
   "file_extension": ".py",
   "mimetype": "text/x-python",
   "name": "python",
   "nbconvert_exporter": "python",
   "pygments_lexer": "ipython3",
   "version": "3.12.10"
  }
 },
 "nbformat": 4,
 "nbformat_minor": 0
}
